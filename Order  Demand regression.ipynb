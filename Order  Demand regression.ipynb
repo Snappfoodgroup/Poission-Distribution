{
 "cells": [
  {
   "cell_type": "code",
   "execution_count": 2,
   "id": "a2678433",
   "metadata": {},
   "outputs": [],
   "source": [
    "import pandas as pd \n",
    "import numpy as np \n",
    "import datetime as dt\n",
    "import matplotlib.pyplot as plt\n",
    "from sklearn.model_selection import train_test_split\n",
    "from pandas.plotting import scatter_matrix\n",
    "from sklearn.impute import SimpleImputer #filling null values for every columns\n",
    "from sklearn.base import BaseEstimator , TransformerMixin\n",
    "from sklearn.preprocessing import StandardScaler #standadization of data \n",
    "from sklearn.preprocessing import LabelEncoder , OneHotEncoder"
   ]
  },
  {
   "cell_type": "markdown",
   "id": "cbf75b62",
   "metadata": {},
   "source": [
    "## Import Calender and Dataframe"
   ]
  },
  {
   "cell_type": "code",
   "execution_count": 14,
   "id": "b20ccfae",
   "metadata": {},
   "outputs": [],
   "source": [
    "df = pd.read_excel('year.xlsx')\n",
    "df['date'] = pd.to_datetime(df['date'])\n",
    "#df.sort_values(by = 'date' , ignore_index = True)\n",
    "cd = pd.read_excel('calender.xlsx')\n",
    "cd1 = pd.read_excel('Calendar1401.xlsx')"
   ]
  },
  {
   "cell_type": "code",
   "execution_count": 19,
   "id": "67ee00e7",
   "metadata": {},
   "outputs": [],
   "source": [
    "cd1['date'] = pd.to_datetime(cd1['Miladi_Date'])"
   ]
  },
  {
   "cell_type": "code",
   "execution_count": 21,
   "id": "aaad69e7",
   "metadata": {},
   "outputs": [],
   "source": [
    "def change_format (x):\n",
    "    \n",
    "    day = str(int(x.split('/')[1]))\n",
    "    month = str(int(x.split('/')[0]))\n",
    "    year = x.split('/')[2]\n",
    "    \n",
    "    return dt.datetime(int(year) , int(month) , int(day))\n",
    "\n"
   ]
  },
  {
   "cell_type": "code",
   "execution_count": 22,
   "id": "e4d2bff1",
   "metadata": {},
   "outputs": [],
   "source": [
    "cd['date'] = cd['Miladi_Date'].apply(change_format)"
   ]
  },
  {
   "cell_type": "code",
   "execution_count": 23,
   "id": "4ae3235b",
   "metadata": {},
   "outputs": [],
   "source": [
    "cd= pd.concat([cd , cd1])"
   ]
  },
  {
   "cell_type": "code",
   "execution_count": 24,
   "id": "0076d7ad",
   "metadata": {},
   "outputs": [],
   "source": [
    "merged = df.merge(cd , how='left' , on = 'date' )\n",
    "selected_merged = merged[['date' , 'orders' , 'DayState']]\n",
    "selected_merged = selected_merged.sort_values(by = 'date' , ignore_index = True)"
   ]
  },
  {
   "cell_type": "code",
   "execution_count": 27,
   "id": "120334c7",
   "metadata": {},
   "outputs": [],
   "source": [
    "# Manage Holidays\n",
    "def holiday_manage(serie):\n",
    "    for i in range(1,len(serie.index)-2):\n",
    "        if serie[i]=='NormalDay' and serie[i-1] == 'Holiday' and serie[i+1] == 'Holiday':\n",
    "            selected_merged.loc[i , 'DayState'] = 'Between'\n",
    "        if serie[i]=='NormalDay' and serie[i+1] == 'Holiday' and serie[i+2] == 'Holiday':\n",
    "            selected_merged.loc[i , 'DayState'] = 'PreHoliday'\n",
    "            \n",
    "holiday_manage(selected_merged['DayState'])"
   ]
  },
  {
   "cell_type": "code",
   "execution_count": 28,
   "id": "8f5fd072",
   "metadata": {},
   "outputs": [],
   "source": [
    "# Adding Seasons\n",
    "def season(df):\n",
    "    df['season'] = 0\n",
    "    for i in df.index:\n",
    "        if df.loc[i , 'date'].month>= 3 and df.loc[i , 'date'].month<= 5:\n",
    "            df.loc[i , 'season'] = 'spring'\n",
    "        elif df.loc[i , 'date'].month>= 6 and df.loc[i , 'date'].month<= 8:\n",
    "            df.loc[i , 'season'] = 'summer'\n",
    "        elif df.loc[i , 'date'].month>= 9 and df.loc[i , 'date'].month<= 11:\n",
    "            df.loc[i , 'season'] = 'fall'\n",
    "        else:\n",
    "            df.loc[i , 'season'] = 'winter'  \n",
    "season(selected_merged)"
   ]
  },
  {
   "cell_type": "code",
   "execution_count": 29,
   "id": "2e8d43b4",
   "metadata": {},
   "outputs": [],
   "source": [
    "# Add Day Name\n",
    "selected_merged['dayofweek'] = selected_merged['date'].dt.dayofweek"
   ]
  },
  {
   "cell_type": "markdown",
   "id": "0fac36bb",
   "metadata": {},
   "source": [
    "## Select Features"
   ]
  },
  {
   "cell_type": "code",
   "execution_count": 30,
   "id": "a40824be",
   "metadata": {},
   "outputs": [
    {
     "data": {
      "text/plain": [
       "season\n",
       "fall      156485.285714\n",
       "spring    145396.608696\n",
       "summer    144030.641304\n",
       "winter    152792.388889\n",
       "Name: orders, dtype: float64"
      ]
     },
     "execution_count": 30,
     "metadata": {},
     "output_type": "execute_result"
    }
   ],
   "source": [
    "selected_merged.groupby('season')['orders'].mean()"
   ]
  },
  {
   "cell_type": "code",
   "execution_count": 31,
   "id": "7db50b57",
   "metadata": {},
   "outputs": [
    {
     "data": {
      "text/plain": [
       "DayState\n",
       "Between       147645.666667\n",
       "Holiday       134600.102941\n",
       "NormalDay     153421.202091\n",
       "PreHoliday    141593.428571\n",
       "Name: orders, dtype: float64"
      ]
     },
     "execution_count": 31,
     "metadata": {},
     "output_type": "execute_result"
    }
   ],
   "source": [
    "selected_merged.groupby('DayState')['orders'].mean()"
   ]
  },
  {
   "cell_type": "code",
   "execution_count": 32,
   "id": "64cfc9b6",
   "metadata": {},
   "outputs": [
    {
     "name": "stdout",
     "output_type": "stream",
     "text": [
      "Average number of orders in sat are equal to 153496.46 \n",
      "Average number of orders in sun are equal to 153006.35 \n",
      "Average number of orders in mon are equal to 156449.79 \n",
      "Average number of orders in tue are equal to 151488.92 \n",
      "Average number of orders in wen are equal to 139923.83 \n",
      "Average number of orders in thu are equal to 143547.35 \n",
      "Average number of orders in fri are equal to 149757.67 \n"
     ]
    }
   ],
   "source": [
    "dict = {0:'sat' , 1:'sun' , 2:'mon' , 3:'tue' , 4:'wen' , 5:'thu' , 6:'fri'}\n",
    "for i in range(0,7):\n",
    "    filt = selected_merged['dayofweek'] == i\n",
    "    print(f'Average number of orders in {dict[i]} are equal to {np.round(selected_merged.loc[filt , \"orders\"].mean() , 2)} ')"
   ]
  },
  {
   "cell_type": "code",
   "execution_count": 34,
   "id": "fadf1e94",
   "metadata": {},
   "outputs": [],
   "source": [
    "selected_merged['dayofweek'] = selected_merged['dayofweek'].apply(lambda x: 'First half' if x<=3 else 'Second half')"
   ]
  },
  {
   "cell_type": "code",
   "execution_count": 35,
   "id": "0516b6d6",
   "metadata": {},
   "outputs": [
    {
     "data": {
      "text/plain": [
       "dayofweek\n",
       "First half     153610.379808\n",
       "Second half    144381.044586\n",
       "Name: orders, dtype: float64"
      ]
     },
     "execution_count": 35,
     "metadata": {},
     "output_type": "execute_result"
    }
   ],
   "source": [
    "selected_merged.groupby('dayofweek')['orders'].mean()"
   ]
  },
  {
   "cell_type": "markdown",
   "id": "c329d4bf",
   "metadata": {},
   "source": [
    "## Encoding"
   ]
  },
  {
   "cell_type": "code",
   "execution_count": 36,
   "id": "b1837211",
   "metadata": {},
   "outputs": [],
   "source": [
    "df = selected_merged.copy()"
   ]
  },
  {
   "cell_type": "code",
   "execution_count": 37,
   "id": "fd2d265b",
   "metadata": {},
   "outputs": [],
   "source": [
    "df['DayState'] = df['DayState'].map({'Holiday' : 0 , 'PreHoliday' : 1 , 'Between' : 1 , 'NormalDay':1})"
   ]
  },
  {
   "cell_type": "code",
   "execution_count": 38,
   "id": "8545ac18",
   "metadata": {},
   "outputs": [
    {
     "data": {
      "text/html": [
       "<div>\n",
       "<style scoped>\n",
       "    .dataframe tbody tr th:only-of-type {\n",
       "        vertical-align: middle;\n",
       "    }\n",
       "\n",
       "    .dataframe tbody tr th {\n",
       "        vertical-align: top;\n",
       "    }\n",
       "\n",
       "    .dataframe thead th {\n",
       "        text-align: right;\n",
       "    }\n",
       "</style>\n",
       "<table border=\"1\" class=\"dataframe\">\n",
       "  <thead>\n",
       "    <tr style=\"text-align: right;\">\n",
       "      <th></th>\n",
       "      <th>date</th>\n",
       "      <th>orders</th>\n",
       "      <th>DayState</th>\n",
       "      <th>season</th>\n",
       "      <th>dayofweek</th>\n",
       "      <th>week_First half</th>\n",
       "      <th>week_Second half</th>\n",
       "      <th>season_fall</th>\n",
       "      <th>season_spring</th>\n",
       "      <th>season_summer</th>\n",
       "      <th>season_winter</th>\n",
       "    </tr>\n",
       "  </thead>\n",
       "  <tbody>\n",
       "    <tr>\n",
       "      <th>0</th>\n",
       "      <td>2021-06-04</td>\n",
       "      <td>115840</td>\n",
       "      <td>0</td>\n",
       "      <td>summer</td>\n",
       "      <td>Second half</td>\n",
       "      <td>0.0</td>\n",
       "      <td>1.0</td>\n",
       "      <td>0.0</td>\n",
       "      <td>0.0</td>\n",
       "      <td>1.0</td>\n",
       "      <td>0.0</td>\n",
       "    </tr>\n",
       "    <tr>\n",
       "      <th>1</th>\n",
       "      <td>2021-06-05</td>\n",
       "      <td>114942</td>\n",
       "      <td>0</td>\n",
       "      <td>summer</td>\n",
       "      <td>Second half</td>\n",
       "      <td>0.0</td>\n",
       "      <td>1.0</td>\n",
       "      <td>0.0</td>\n",
       "      <td>0.0</td>\n",
       "      <td>1.0</td>\n",
       "      <td>0.0</td>\n",
       "    </tr>\n",
       "    <tr>\n",
       "      <th>2</th>\n",
       "      <td>2021-06-06</td>\n",
       "      <td>124147</td>\n",
       "      <td>0</td>\n",
       "      <td>summer</td>\n",
       "      <td>Second half</td>\n",
       "      <td>0.0</td>\n",
       "      <td>1.0</td>\n",
       "      <td>0.0</td>\n",
       "      <td>0.0</td>\n",
       "      <td>1.0</td>\n",
       "      <td>0.0</td>\n",
       "    </tr>\n",
       "    <tr>\n",
       "      <th>3</th>\n",
       "      <td>2021-06-07</td>\n",
       "      <td>135901</td>\n",
       "      <td>1</td>\n",
       "      <td>summer</td>\n",
       "      <td>First half</td>\n",
       "      <td>1.0</td>\n",
       "      <td>0.0</td>\n",
       "      <td>0.0</td>\n",
       "      <td>0.0</td>\n",
       "      <td>1.0</td>\n",
       "      <td>0.0</td>\n",
       "    </tr>\n",
       "    <tr>\n",
       "      <th>4</th>\n",
       "      <td>2021-06-08</td>\n",
       "      <td>140818</td>\n",
       "      <td>1</td>\n",
       "      <td>summer</td>\n",
       "      <td>First half</td>\n",
       "      <td>1.0</td>\n",
       "      <td>0.0</td>\n",
       "      <td>0.0</td>\n",
       "      <td>0.0</td>\n",
       "      <td>1.0</td>\n",
       "      <td>0.0</td>\n",
       "    </tr>\n",
       "  </tbody>\n",
       "</table>\n",
       "</div>"
      ],
      "text/plain": [
       "        date  orders  DayState  season    dayofweek  week_First half  \\\n",
       "0 2021-06-04  115840         0  summer  Second half              0.0   \n",
       "1 2021-06-05  114942         0  summer  Second half              0.0   \n",
       "2 2021-06-06  124147         0  summer  Second half              0.0   \n",
       "3 2021-06-07  135901         1  summer   First half              1.0   \n",
       "4 2021-06-08  140818         1  summer   First half              1.0   \n",
       "\n",
       "   week_Second half  season_fall  season_spring  season_summer  season_winter  \n",
       "0               1.0          0.0            0.0            1.0            0.0  \n",
       "1               1.0          0.0            0.0            1.0            0.0  \n",
       "2               1.0          0.0            0.0            1.0            0.0  \n",
       "3               0.0          0.0            0.0            1.0            0.0  \n",
       "4               0.0          0.0            0.0            1.0            0.0  "
      ]
     },
     "execution_count": 38,
     "metadata": {},
     "output_type": "execute_result"
    }
   ],
   "source": [
    "encoder_hot = OneHotEncoder(sparse =False) #sparse =false is for null values\n",
    "data_cat_hot_tmp = encoder_hot.fit_transform(df[['dayofweek' , 'season']])\n",
    "data_cat_hot=pd.DataFrame(data_cat_hot_tmp)\n",
    "data_cat_hot.columns = encoder_hot.get_feature_names(['week' , 'season'])\n",
    "data_cat_hot.head()\n",
    "final = pd.concat([df , data_cat_hot] , axis=1)\n",
    "final.head()"
   ]
  },
  {
   "cell_type": "markdown",
   "id": "30b2da38",
   "metadata": {},
   "source": [
    "## Purification"
   ]
  },
  {
   "cell_type": "code",
   "execution_count": 92,
   "id": "c39314ae",
   "metadata": {},
   "outputs": [],
   "source": [
    "final.dropna(axis= 0 , how='any' , inplace=True) "
   ]
  },
  {
   "cell_type": "code",
   "execution_count": 96,
   "id": "edf1773d",
   "metadata": {},
   "outputs": [],
   "source": [
    "final = final.drop(['date' , 'season' , 'dayofweek'] , axis= 1)"
   ]
  },
  {
   "cell_type": "markdown",
   "id": "96da7da2",
   "metadata": {},
   "source": [
    "## Correlation Finder "
   ]
  },
  {
   "cell_type": "code",
   "execution_count": 39,
   "id": "2560d71f",
   "metadata": {
    "scrolled": true
   },
   "outputs": [
    {
     "data": {
      "text/plain": [
       "orders              1.000000\n",
       "DayState            0.435577\n",
       "week_First half     0.276559\n",
       "season_fall         0.238745\n",
       "season_winter       0.109133\n",
       "season_spring      -0.149110\n",
       "season_summer      -0.197103\n",
       "week_Second half   -0.276559\n",
       "Name: orders, dtype: float64"
      ]
     },
     "execution_count": 39,
     "metadata": {},
     "output_type": "execute_result"
    }
   ],
   "source": [
    "#standard correlation coefficient (linear) [-1,1] 1= 100% and -1=100% opp coeffucient\n",
    "corr_matrix =final.corr()\n",
    "corr_matrix['orders'].sort_values(ascending=False)"
   ]
  },
  {
   "cell_type": "code",
   "execution_count": 40,
   "id": "1e411fa4",
   "metadata": {
    "scrolled": false
   },
   "outputs": [
    {
     "data": {
      "image/png": "[encoded data removed]",
      "text/plain": [
       "<Figure size 1440x1080 with 9 Axes>"
      ]
     },
     "metadata": {
      "needs_background": "light"
     },
     "output_type": "display_data"
    }
   ],
   "source": [
    "final.hist(bins=50,figsize=(20,15))\n",
    "plt.show()"
   ]
  },
  {
   "cell_type": "markdown",
   "id": "d51bfbf3",
   "metadata": {},
   "source": [
    "# Machine Learning (Train_Test split)"
   ]
  },
  {
   "cell_type": "code",
   "execution_count": 104,
   "id": "f1be7d2b",
   "metadata": {},
   "outputs": [
    {
     "name": "stdout",
     "output_type": "stream",
     "text": [
      "232 58\n"
     ]
    }
   ],
   "source": [
    "train_set , test_set = train_test_split(final, test_size = 0.2 , random_state=42)\n",
    "print(train_set.shape[0] , test_set.shape[0])"
   ]
  },
  {
   "cell_type": "code",
   "execution_count": 105,
   "id": "ea32e7aa",
   "metadata": {},
   "outputs": [],
   "source": [
    "prepared_df = train_set.drop('orders' , axis = 1)\n",
    "target = train_set['orders']"
   ]
  },
  {
   "cell_type": "markdown",
   "id": "03bf000a",
   "metadata": {},
   "source": [
    "## Model Selection"
   ]
  },
  {
   "cell_type": "code",
   "execution_count": 108,
   "id": "e95a9555",
   "metadata": {},
   "outputs": [],
   "source": [
    "from sklearn.linear_model import LinearRegression\n",
    "from sklearn.tree import DecisionTreeRegressor\n",
    "from sklearn.ensemble import RandomForestRegressor\n",
    "from sklearn.metrics import mean_squared_error"
   ]
  },
  {
   "cell_type": "code",
   "execution_count": 109,
   "id": "9863eb16",
   "metadata": {},
   "outputs": [
    {
     "data": {
      "text/plain": [
       "11492.355080234594"
      ]
     },
     "execution_count": 109,
     "metadata": {},
     "output_type": "execute_result"
    }
   ],
   "source": [
    "#================================== linear ** Regression ==================================#\n",
    "lin_reg = LinearRegression()\n",
    "lin_reg.fit(prepared_df,target)\n",
    "\n",
    "order_predications = lin_reg.predict(prepared_df)\n",
    "lin_mse = mean_squared_error(target ,order_predications )\n",
    "lin_rmse = np.sqrt(lin_mse)\n",
    "lin_rmse"
   ]
  },
  {
   "cell_type": "code",
   "execution_count": 110,
   "id": "8f00ca60",
   "metadata": {},
   "outputs": [
    {
     "data": {
      "text/plain": [
       "11078.135150203689"
      ]
     },
     "execution_count": 110,
     "metadata": {},
     "output_type": "execute_result"
    }
   ],
   "source": [
    "#================================== DecisionTree ** Regression ==================================#\n",
    "tree_reg = DecisionTreeRegressor()\n",
    "tree_reg.fit(prepared_df,target)  \n",
    "order_predications = tree_reg.predict(prepared_df)\n",
    "lin_mse = mean_squared_error(target ,order_predications )\n",
    "lin_rmse = np.sqrt(lin_mse)\n",
    "lin_rmse"
   ]
  },
  {
   "cell_type": "code",
   "execution_count": 111,
   "id": "4702c29f",
   "metadata": {},
   "outputs": [
    {
     "data": {
      "text/plain": [
       "11085.908860276568"
      ]
     },
     "execution_count": 111,
     "metadata": {},
     "output_type": "execute_result"
    }
   ],
   "source": [
    "#================================== RandomForest ** Regression ==================================#\n",
    "forest_reg = RandomForestRegressor()\n",
    "forest_reg.fit(prepared_df,target) \n",
    "order_predications = forest_reg.predict(prepared_df)\n",
    "lin_mse = mean_squared_error(target ,order_predications )\n",
    "lin_rmse = np.sqrt(lin_mse)\n",
    "lin_rmse"
   ]
  },
  {
   "cell_type": "markdown",
   "id": "eb90330f",
   "metadata": {},
   "source": [
    "## Test Model with Test_Set"
   ]
  },
  {
   "cell_type": "code",
   "execution_count": 119,
   "id": "353267f3",
   "metadata": {},
   "outputs": [],
   "source": [
    "X = test_set.drop('orders' , axis = 1 )\n",
    "y = test_set['orders']"
   ]
  },
  {
   "cell_type": "code",
   "execution_count": 128,
   "id": "ec0275a3",
   "metadata": {},
   "outputs": [
    {
     "data": {
      "text/plain": [
       "DecisionTreeRegressor()"
      ]
     },
     "execution_count": 128,
     "metadata": {},
     "output_type": "execute_result"
    }
   ],
   "source": [
    "tree_reg = DecisionTreeRegressor()\n",
    "tree_reg.fit(X,y) "
   ]
  },
  {
   "cell_type": "code",
   "execution_count": 129,
   "id": "d93f10ee",
   "metadata": {},
   "outputs": [
    {
     "data": {
      "text/plain": [
       "112397928.01966338"
      ]
     },
     "execution_count": 129,
     "metadata": {},
     "output_type": "execute_result"
    }
   ],
   "source": [
    "final_predications = tree_reg.predict(X)\n",
    "final_mse = mean_squared_error(y , final_predications)\n",
    "final_rmse = np.sqrt(final_mse)\n",
    "final_mse"
   ]
  },
  {
   "cell_type": "code",
   "execution_count": null,
   "id": "0eb1010e",
   "metadata": {},
   "outputs": [],
   "source": []
  }
 ],
 "metadata": {
  "kernelspec": {
   "display_name": "Python 3 (ipykernel)",
   "language": "python",
   "name": "python3"
  },
  "language_info": {
   "codemirror_mode": {
    "name": "ipython",
    "version": 3
   },
   "file_extension": ".py",
   "mimetype": "text/x-python",
   "name": "python",
   "nbconvert_exporter": "python",
   "pygments_lexer": "ipython3",
   "version": "3.9.7"
  }
 },
 "nbformat": 4,
 "nbformat_minor": 5
}
